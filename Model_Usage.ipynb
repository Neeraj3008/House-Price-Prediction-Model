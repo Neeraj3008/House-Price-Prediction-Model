{
 "cells": [
  {
   "cell_type": "code",
   "execution_count": null,
   "id": "7c67b13a-4ab5-4ac8-97a2-27d923c4b7a4",
   "metadata": {},
   "outputs": [],
   "source": [
    "##Load Model using joblib ##"
   ]
  },
  {
   "cell_type": "code",
   "execution_count": 1,
   "id": "408945b7-adaa-4432-a86b-3d1a90c876cf",
   "metadata": {},
   "outputs": [],
   "source": [
    "from joblib import dump,load\n",
    "import numpy as np\n",
    "model = load('HousePred.joblib')"
   ]
  },
  {
   "cell_type": "code",
   "execution_count": null,
   "id": "917379ab-903b-4aec-a632-84252dc686e1",
   "metadata": {},
   "outputs": [],
   "source": [
    "##Taking Random Features to Test and Predict the features##"
   ]
  },
  {
   "cell_type": "code",
   "execution_count": 4,
   "id": "aaee3e07-aaf4-4ba0-b1ed-f53bd25a517d",
   "metadata": {},
   "outputs": [
    {
     "data": {
      "text/plain": [
       "array([22.508])"
      ]
     },
     "execution_count": 4,
     "metadata": {},
     "output_type": "execute_result"
    }
   ],
   "source": [
    "features = np.array([[-0.43942006,  3.12628155, -1.12165014, -0.27288841, -1.42262747,\n",
    "       -0.24141041, -1.31238772,  2.61111401, -1.0016859 , -0.5778192 ,\n",
    "       -0.97491834,  0.41164221, -0.86091034]])\n",
    "model.predict(features)"
   ]
  },
  {
   "cell_type": "code",
   "execution_count": null,
   "id": "0f34cd38-0eb5-4000-a2b1-ebb1b18370ba",
   "metadata": {},
   "outputs": [],
   "source": []
  }
 ],
 "metadata": {
  "kernelspec": {
   "display_name": "Python 3 (ipykernel)",
   "language": "python",
   "name": "python3"
  },
  "language_info": {
   "codemirror_mode": {
    "name": "ipython",
    "version": 3
   },
   "file_extension": ".py",
   "mimetype": "text/x-python",
   "name": "python",
   "nbconvert_exporter": "python",
   "pygments_lexer": "ipython3",
   "version": "3.13.4"
  }
 },
 "nbformat": 4,
 "nbformat_minor": 5
}
